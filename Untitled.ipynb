{
 "cells": [
  {
   "cell_type": "code",
   "execution_count": 1,
   "metadata": {},
   "outputs": [],
   "source": [
    "from ImgTools import *"
   ]
  },
  {
   "cell_type": "code",
   "execution_count": 27,
   "metadata": {},
   "outputs": [],
   "source": [
    "img = Image.open('screenshot.png')\n",
    "img = binarize(img,100)\n",
    "\"\"\"横向切割\"\"\"\n",
    "width, _ = img.size\n",
    "px = list(np.sum(np.array(img) == 0, axis=1))\n",
    "# 列表保存像素累加值大于0的行\n",
    "y0 = []\n",
    "for y in range(len(px)):\n",
    "    if px[y] > 1:\n",
    "        y0.append(y)\n",
    "\n",
    "# 找出边界\n",
    "cut_list = [y0[0]]\n",
    "for i in range(1, len(y0)):\n",
    "    if abs(y0[i] - y0[i - 1]) > 1:\n",
    "        cut_list.extend([y0[i - 1], y0[i]])\n",
    "cut_list.append(y0[-1])\n",
    "\n",
    "# 切割顺利的话应该是长度为4的list\n",
    "if len(cut_list) == 4:\n",
    "    cut_img1 = img.crop([0, cut_list[0], width, cut_list[1]])\n",
    "    cut_img2 = img.crop([0, cut_list[2], width, cut_list[3]])\n",
    "else:\n",
    "    print('Horizontal cut failed.')"
   ]
  },
  {
   "cell_type": "code",
   "execution_count": 30,
   "metadata": {},
   "outputs": [
    {
     "data": {
      "image/png": "[encoded data removed]",
      "text/plain": [
       "<PIL.Image.Image image mode=1 size=210x45 at 0x1E38F4B2518>"
      ]
     },
     "execution_count": 30,
     "metadata": {},
     "output_type": "execute_result"
    }
   ],
   "source": [
    "cut_img1"
   ]
  },
  {
   "cell_type": "code",
   "execution_count": 26,
   "metadata": {},
   "outputs": [],
   "source": [
    "\"\"\"纵向切割\"\"\"\n",
    "img = cut_img1\n",
    "_, height = img.size\n",
    "px = list(np.sum(np.array(img) == 0, axis=0))\n",
    "# 列表保存像素累加值大于0的列\n",
    "x0 = []\n",
    "for x in range(len(px)):\n",
    "    if px[x] > 1:\n",
    "        x0.append(x)\n",
    "\n",
    "# 找出边界\n",
    "cut_list = [x0[0]]\n",
    "for i in range(1, len(x0)):\n",
    "    if abs(x0[i] - x0[i - 1]) > 1:\n",
    "        cut_list.extend([x0[i - 1], x0[i]])\n",
    "cut_list.append(x0[-1])\n",
    "\n",
    "cut_imgs = []\n",
    "# 切割顺利的话应该是整对\n",
    "if len(cut_list) % 2 == 0:\n",
    "    for i in range(len(cut_list) // 2):\n",
    "        cut_img = img.crop([cut_list[i * 2], 0, cut_list[i * 2 + 1], height])\n",
    "        cut_imgs.append(cut_img)\n",
    "else:\n",
    "    print('Vertical cut failed.')\n"
   ]
  },
  {
   "cell_type": "code",
   "execution_count": 22,
   "metadata": {},
   "outputs": [
    {
     "ename": "IndexError",
     "evalue": "list index out of range",
     "output_type": "error",
     "traceback": [
      "\u001b[1;31m---------------------------------------------------------------------------\u001b[0m",
      "\u001b[1;31mIndexError\u001b[0m                                Traceback (most recent call last)",
      "\u001b[1;32m<ipython-input-22-15869a58a6e6>\u001b[0m in \u001b[0;36m<module>\u001b[1;34m()\u001b[0m\n\u001b[1;32m----> 1\u001b[1;33m \u001b[0mcut_imgs\u001b[0m\u001b[1;33m[\u001b[0m\u001b[1;36m5\u001b[0m\u001b[1;33m]\u001b[0m\u001b[1;33m\u001b[0m\u001b[0m\n\u001b[0m",
      "\u001b[1;31mIndexError\u001b[0m: list index out of range"
     ]
    }
   ],
   "source": [
    "cut_imgs[5]"
   ]
  },
  {
   "cell_type": "code",
   "execution_count": 37,
   "metadata": {},
   "outputs": [
    {
     "data": {
      "text/plain": [
       "'96-75==21'"
      ]
     },
     "execution_count": 37,
     "metadata": {},
     "output_type": "execute_result"
    }
   ],
   "source": [
    "recognize(binarize(binarize(Image.open('screenshot.png'),100)))"
   ]
  },
  {
   "cell_type": "code",
   "execution_count": 24,
   "metadata": {},
   "outputs": [
    {
     "data": {
      "image/png": "[encoded data removed]",
      "text/plain": [
       "<PIL.PngImagePlugin.PngImageFile image mode=RGB size=210x160 at 0x1E38F4A7E48>"
      ]
     },
     "execution_count": 24,
     "metadata": {},
     "output_type": "execute_result"
    }
   ],
   "source": [
    "Image.open('screenshot.png')"
   ]
  },
  {
   "cell_type": "code",
   "execution_count": 14,
   "metadata": {},
   "outputs": [],
   "source": [
    "img = cut_imgs[1]\n",
    "threshold = 200\n",
    "img = img.convert('L')\n",
    "table = []\n",
    "for i in range(256):\n",
    "    if i > threshold:\n",
    "        table.append(0)\n",
    "    else:\n",
    "        table.append(1)\n",
    "bin_img = img.point(table, '1')"
   ]
  },
  {
   "cell_type": "code",
   "execution_count": 17,
   "metadata": {},
   "outputs": [
    {
     "data": {
      "image/png": "[encoded data removed]",
      "text/plain": [
       "<PIL.Image.Image image mode=1 size=21x44 at 0x1F7CD91F278>"
      ]
     },
     "execution_count": 17,
     "metadata": {},
     "output_type": "execute_result"
    }
   ],
   "source": [
    "bin_img"
   ]
  },
  {
   "cell_type": "code",
   "execution_count": 19,
   "metadata": {},
   "outputs": [
    {
     "data": {
      "image/png": "[encoded data removed]",
      "text/plain": [
       "<PIL.Image.Image image mode=1 size=21x44 at 0x1F7CD9AF278>"
      ]
     },
     "execution_count": 19,
     "metadata": {},
     "output_type": "execute_result"
    }
   ],
   "source": [
    "cut_imgs[1]"
   ]
  },
  {
   "cell_type": "code",
   "execution_count": null,
   "metadata": {},
   "outputs": [],
   "source": []
  }
 ],
 "metadata": {
  "kernelspec": {
   "display_name": "Python 3",
   "language": "python",
   "name": "python3"
  },
  "language_info": {
   "codemirror_mode": {
    "name": "ipython",
    "version": 3
   },
   "file_extension": ".py",
   "mimetype": "text/x-python",
   "name": "python",
   "nbconvert_exporter": "python",
   "pygments_lexer": "ipython3",
   "version": "3.6.4"
  }
 },
 "nbformat": 4,
 "nbformat_minor": 2
}
